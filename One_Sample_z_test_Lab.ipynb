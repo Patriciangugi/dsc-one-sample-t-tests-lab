{
  "nbformat": 4,
  "nbformat_minor": 0,
  "metadata": {
    "colab": {
      "provenance": [],
      "authorship_tag": "ABX9TyMB2l/P6y/frO3UOMJ6iyNj",
      "include_colab_link": true
    },
    "kernelspec": {
      "name": "python3",
      "display_name": "Python 3"
    },
    "language_info": {
      "name": "python"
    }
  },
  "cells": [
    {
      "cell_type": "markdown",
      "metadata": {
        "id": "view-in-github",
        "colab_type": "text"
      },
      "source": [
        "<a href=\"https://colab.research.google.com/github/Patriciangugi/dsc-one-sample-t-tests-lab/blob/master/One_Sample_z_test_Lab.ipynb\" target=\"_parent\"><img src=\"https://colab.research.google.com/assets/colab-badge.svg\" alt=\"Open In Colab\"/></a>"
      ]
    },
    {
      "cell_type": "code",
      "execution_count": 2,
      "metadata": {
        "colab": {
          "base_uri": "https://localhost:8080/"
        },
        "id": "nLUVRA9-GzRl",
        "outputId": "d4b5af64-8954-4fc2-e803-63ce660b7197"
      },
      "outputs": [
        {
          "output_type": "stream",
          "name": "stdout",
          "text": [
            "z = 3.0\n",
            "p = 0.002699796063260207\n",
            "Reject the null hypothesis. There is enough evidence to contradict the fast-food chain's claim of fast service.\n"
          ]
        }
      ],
      "source": [
        "import scipy.stats as stats\n",
        "import numpy as np # Import the NumPy library\n",
        "\n",
        "# Given data\n",
        "mu = 60\n",
        "sigma = 30\n",
        "n = 36\n",
        "x_bar = 75\n",
        "\n",
        "# Calculate the z-test statistic\n",
        "z = (x_bar - mu) / (sigma / np.sqrt(n))\n",
        "\n",
        "# Calculate the p-value for a two-tailed test\n",
        "p_value = 2 * (1 - stats.norm.cdf(abs(z)))\n",
        "\n",
        "# Print the results\n",
        "print(f\"z = {z}\")\n",
        "print(f\"p = {p_value}\")\n",
        "\n",
        "# Interpret the results\n",
        "if p_value < 0.05:\n",
        "    print(\"Reject the null hypothesis. There is enough evidence to contradict the fast-food chain's claim of fast service.\")\n",
        "else:\n",
        "    print(\"Fail to reject the null hypothesis. There is not enough evidence to contradict the fast-food chain's claim of fast service.\")\n"
      ]
    },
    {
      "cell_type": "code",
      "source": [
        "import numpy as np\n",
        "import scipy.stats as stats\n",
        "\n",
        "# Given data\n",
        "sat_scores = [434, 694, 457, 534, 720, 400, 484, 478, 610, 641, 425, 636, 454, 514, 563, 370, 499, 640, 501, 625, 612, 471, 598, 509, 531]\n",
        "mu = 500\n",
        "sigma = 100\n",
        "n = len(sat_scores)\n",
        "\n",
        "# Calculate the sample mean\n",
        "x_bar = np.mean(sat_scores)\n",
        "\n",
        "# Calculate the z-test statistic\n",
        "z = (x_bar - mu) / (sigma / np.sqrt(n))\n",
        "\n",
        "# Calculate the p-value for a one-tailed test\n",
        "p_value = 1 - stats.norm.cdf(z)\n",
        "\n",
        "# Print the results\n",
        "print(f\"Sample Mean = {x_bar}\")\n",
        "print(f\"z = {z}\")\n",
        "print(f\"p = {p_value}\")\n",
        "\n",
        "# Interpret the results\n",
        "if p_value < 0.05:\n",
        "    print(\"Reject the null hypothesis. The SAT preparation program has significantly increased the SAT scores.\")\n",
        "else:\n",
        "    print(\"Fail to reject the null hypothesis. There is not enough evidence to conclude that the SAT preparation program has significantly increased the SAT scores.\")\n"
      ],
      "metadata": {
        "colab": {
          "base_uri": "https://localhost:8080/"
        },
        "id": "ZXcBrhY-Gz_G",
        "outputId": "90be2e22-8504-40d3-850f-2a87dcdf803c"
      },
      "execution_count": 3,
      "outputs": [
        {
          "output_type": "stream",
          "name": "stdout",
          "text": [
            "Sample Mean = 536.0\n",
            "z = 1.8\n",
            "p = 0.03593031911292577\n",
            "Reject the null hypothesis. The SAT preparation program has significantly increased the SAT scores.\n"
          ]
        }
      ]
    }
  ]
}